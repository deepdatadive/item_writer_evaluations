{
  "cells": [
    {
      "cell_type": "markdown",
      "metadata": {},
      "source": [
        "# Experiment Analysis Template\n",
        "\n",
        "**Experiment**: [Experiment Name]\n",
        "\n",
        "**Date**: YYYY-MM-DD\n",
        "\n",
        "**Analyst**: [Your Name]\n",
        "\n",
        "## Overview\n",
        "\n",
        "Brief description of the analysis goals.\n"
      ]
    },
    {
      "cell_type": "code",
      "execution_count": null,
      "metadata": {},
      "outputs": [],
      "source": [
        "# Import libraries\n",
        "import pandas as pd\n",
        "import numpy as np\n",
        "import matplotlib.pyplot as plt\n",
        "import seaborn as sns\n",
        "from pathlib import Path\n",
        "import sys\n",
        "\n",
        "# Add shared utilities to path\n",
        "sys.path.append('../../shared')\n",
        "from utils import (\n",
        "    load_experiment_data,\n",
        "    validate_long_format,\n",
        "    calculate_item_stats,\n",
        "    calculate_reliability,\n",
        "    setup_plotting_style,\n",
        "    save_figure\n",
        ")\n",
        "\n",
        "# Set up plotting style\n",
        "setup_plotting_style()\n",
        "\n",
        "# Display settings\n",
        "pd.set_option('display.max_columns', None)\n",
        "pd.set_option('display.max_rows', 100)\n"
      ]
    },
    {
      "cell_type": "markdown",
      "metadata": {},
      "source": [
        "## 1. Load Data\n"
      ]
    },
    {
      "cell_type": "code",
      "execution_count": null,
      "metadata": {},
      "outputs": [],
      "source": [
        "# Define paths\n",
        "EXPERIMENT_PATH = Path('..')\n",
        "DATA_FILE = 'responses.csv'\n",
        "\n",
        "# Load data\n",
        "df, metadata = load_experiment_data(EXPERIMENT_PATH, DATA_FILE, data_type='raw')\n",
        "\n",
        "print(f\"Loaded {len(df)} rows\")\n",
        "print(f\"Columns: {df.columns.tolist()}\")\n",
        "df.head()\n"
      ]
    },
    {
      "cell_type": "markdown",
      "metadata": {},
      "source": [
        "## 2. Data Validation\n"
      ]
    },
    {
      "cell_type": "code",
      "execution_count": null,
      "metadata": {},
      "outputs": [],
      "source": [
        "# Validate long format\n",
        "is_valid, issues = validate_long_format(df)\n",
        "\n",
        "if is_valid:\n",
        "    print(\"✓ Data validation passed\")\n",
        "else:\n",
        "    print(\"✗ Data validation issues:\")\n",
        "    for issue in issues:\n",
        "        print(f\"  - {issue}\")\n"
      ]
    },
    {
      "cell_type": "markdown",
      "metadata": {},
      "source": [
        "## 3. Summary\n"
      ]
    },
    {
      "cell_type": "markdown",
      "metadata": {},
      "source": [
        "Key findings:\n",
        "- Finding 1\n",
        "- Finding 2  \n",
        "- Finding 3\n",
        "\n",
        "**Next steps**: [What to do next]\n"
      ]
    }
  ],
  "metadata": {
    "language_info": {
      "name": "python"
    }
  },
  "nbformat": 4,
  "nbformat_minor": 2
}
